{
 "cells": [
  {
   "cell_type": "markdown",
   "metadata": {},
   "source": [
    "# Personal Statement\n",
    "# Peter Dresslar, Applicant\n",
    "## ASU Complex Systems Science\n",
    "\n",
    "### About me\n",
    "\n",
    "...\n"
   ]
  },
  {
   "cell_type": "markdown",
   "metadata": {},
   "source": [
    "### Why Complex Systems Science\n",
    "\n",
    "Why am I so excited about Complex Systems Science? Well, for my entire adult life and much of my childhood (starting with the Game of Life on Apple IIgs!) I have been fascinated with automata. I spent endless hours in University of Michigan computer lab (which was invariably freezing, I should add,) toying with my own versions in Pascal and C, sometimes to the detriment of my actual homework. \n",
    "\n",
    "Of course, the usual story applies: I graduated, I started a life, I moved on from \"childish things\" and grew up.[1] Life happened.\n",
    "\n",
    "And then, a couple of things happened to life. More and more of my work has focused on AI in the past few years, and with the advent of AI, I began experimenting a bit with automata:"
   ]
  },
  {
   "cell_type": "code",
   "execution_count": null,
   "metadata": {},
   "outputs": [],
   "source": [
    "# Set up call to ChatGPT\n",
    "\n",
    "from main import ask_gpt # a very rudimentary wrapper for OpenAI's API, for purposes of this example.\n",
    "\n",
    "prompt = \"\"\"\n",
    "Please output the first 10 values of Rule 110,\n",
    "Given a 16 cell cylinder,\n",
    "with the initial condition of \n",
    "fifteen 0s followed by a 1 (left to right).\n",
    "\n",
    "Please work through the steps yourself. As a reminder, the rules of Rule 110 are:\n",
    "\n",
    "Pattern | Next State\n",
    "--------|----------\n",
    "111 | 0\n",
    "110 | 1\n",
    "101 | 1\n",
    "100 | 0\n",
    "011 | 1\n",
    "010 | 1\n",
    "001 | 1\n",
    "000 | 0\n",
    "\n",
    "Kindly respond only with the output values, no other text. Thanks!\n",
    "\"\"\"\n",
    "\n",
    "old_model = \"gpt-3.5-turbo\"\n",
    "\n",
    "print(ask_gpt(prompt, old_model))"
   ]
  },
  {
   "cell_type": "markdown",
   "metadata": {},
   "source": [
    "That, of course, was ChatGPT 3.5, which is endlessly hard to beliebv very hard to believe that was 18 months ago. If you re-run this in real time, we might assume that the output did not work correctly---though we might observe that even one correct step would be significant! Letʻs now look at chatgpt 4.o mini:"
   ]
  },
  {
   "cell_type": "code",
   "execution_count": null,
   "metadata": {},
   "outputs": [],
   "source": [
    "# Set up call to ChatGPT\n",
    "\n",
    "prompt = prompt # see above.\n",
    "\n",
    "new_model = \"o1-mini\"\n",
    "\n",
    "print(ask_gpt(prompt, new_model))"
   ]
  },
  {
   "cell_type": "markdown",
   "metadata": {},
   "source": [
    "18 months later and something almost miraculous is happening; something in the universe other than a human being can emulate.... *not* compute, but *think through* an automaton for several steps in a row, and in fact a turing complete one, at that! And so we might say that the interaction between LLMs and automata is an exciting new frontier, to say the least."
   ]
  },
  {
   "cell_type": "markdown",
   "metadata": {},
   "source": [
    "I mentioned two things. The second is that I currently find myself working for American Samoa Community College, which, as of December 2024, was working to establish remote courses for the Pacific market.[2] As the manager of our technology integration effort, I signed up for ASUʻs online courses simply to gather competitive intelligence. Thatʻs right---Iʻm a mole.\n",
    "\n",
    "I was browsing various course catalogues from the university, not planning to register for *any* of them, when Professor Applegateʻs Complexity Economics course description came across my search bar. That led me to her models on CoMSES, a few of which I downloaded and worked with, and suddenly I was hooked.[3] Now *these* were automata! And, of course, I had had automata on my mind. \n",
    "\n",
    "I registered for the class. By the first weekʻs assigment I was hooked. By about week five I was dreaming about models. Here is some of the work that I posted in class:\n",
    "\n",
    "(in fact I posted several responses to assignments i was very pleased with, here are those examples)\n",
    "[links!]\n",
    "\n",
    "Iʻve been completely turned onto the idea the complexity science and particularly agent based modeling can genuinely yield information we can use to improve our societies, our interactions with our planetary domain, and the future of humanity in particular. And I am so excited to apply artificial intelligence as an unlocking factor in that development.\n",
    "\n",
    "(To that end (and hopefully demonstrating that my previous example was not appropos of nothing), I have begun work, with Professor Applegateʻs guidance, on an Artificial Agent Based Model based on Lotka Voltera. I have some exciting results so far that I believe can be developed into a paper.)\n",
    "\n",
    "From there, I am excited to expand on the approach, and would be particularly pleased to network with other students with various expertises and backgrounds to find new avenues where we might be able to solve some of the (seemingly endless) problems facing the world today. In fact, Iʻd like to close on that note with something I posted on the discussion board last month:"
   ]
  },
  {
   "cell_type": "markdown",
   "metadata": {},
   "source": [
    "Notes\n",
    "\n",
    "[1] Yes, that is very much a reference to a current popular entertainment.\n",
    "\n",
    "[2] Today, the college is merely struggling to survive, for reasons with which the reader will likely be familiar.\n",
    "\n",
    "[3] I would like to point out that when asked, Professor Applegate also graciously sent me the syllabus ahead f the semester\n",
    "\n",
    "References\n",
    "\n",
    "Applegate, JM, (get model citation)\n",
    "\n",
    "Wolfram Research, Inc., Wolfram|Alpha Notebook Edition, Champaign, IL (2024)."
   ]
  },
  {
   "cell_type": "markdown",
   "metadata": {},
   "source": []
  }
 ],
 "metadata": {
  "kernelspec": {
   "display_name": "Python 3",
   "language": "python",
   "name": "python3"
  },
  "language_info": {
   "name": "python",
   "version": "3.12.8"
  }
 },
 "nbformat": 4,
 "nbformat_minor": 2
}
