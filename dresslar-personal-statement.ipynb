{
 "cells": [
  {
   "cell_type": "markdown",
   "metadata": {},
   "source": [
    "## Personal Statement: Peter Dresslar, Applicant\n",
    "\n",
    "*March, 2025*"
   ]
  },
  {
   "cell_type": "code",
   "execution_count": 1,
   "metadata": {},
   "outputs": [
    {
     "name": "stdout",
     "output_type": "stream",
     "text": [
      "Requests package already installed.\n"
     ]
    }
   ],
   "source": [
    "# This cell handles all setup - you can collapse it after running\n",
    "import sys, subprocess, importlib.util\n",
    "\n",
    "# Check if requests is installed\n",
    "if importlib.util.find_spec(\"requests\") is None:\n",
    "    print(\"Installing requests package...\")\n",
    "    subprocess.check_call([sys.executable, \"-m\", \"pip\", \"install\", \"requests\"])\n",
    "    print(\"Requests package installed successfully!\")\n",
    "else:\n",
    "    print(\"Requests package already installed.\")\n",
    "\n",
    "import requests\n",
    "\n",
    "# Define the function for API calls\n",
    "def ask_openai_something(prompt, model=\"gpt-3.5-turbo\", url=\"https://peterdresslar-asucss-f2025.onrender.com/ask\"):\n",
    "    response = requests.post(\n",
    "        url, \n",
    "        json={\"prompt\": prompt, \"model\": model}\n",
    "    )\n",
    "    if response.status_code == 200:\n",
    "        return response.json()[\"response\"]\n",
    "    else:\n",
    "        return f\"Error: {response.status_code}, {response.text}\""
   ]
  },
  {
   "cell_type": "markdown",
   "metadata": {},
   "source": [
    "### Why Complex Systems Science?\n",
    "\n",
    "Why am I so excited about Complex Systems Science? Well, for a very long time, including much of my childhood (starting with Conwayʻs Game of Life on an Apple IIc!) I have been fascinated with automata. I spent endless hours in University of Michigan computer lab (which was invariably freezing cold) toying with my own versions in Pascal and C, sometimes to the detriment of my actual homework. \n",
    "\n",
    "Of course, the usual story applies: I graduated, I started a life, I moved on from \"childish things\" and grew up.[1] Life happened.\n",
    "\n",
    "<div style=\"text-align: center; font-size: 24px; margin: 20px 0;\">\n",
    "⌛ ⏳ ⌛\n",
    "</div>\n",
    "\n",
    "Many years later, a couple of events caused those old interests to flicker back to life. More and more of my work has focused on AI in the past few years, and with the advent of AI and LLMs, I began experimenting a bit with automata:"
   ]
  },
  {
   "cell_type": "code",
   "execution_count": 2,
   "metadata": {},
   "outputs": [
    {
     "name": "stdout",
     "output_type": "stream",
     "text": [
      "0000000000000001\n",
      "0000000000000011\n",
      "0000000000000111\n",
      "0000000000001110\n",
      "0000000000011101\n",
      "0000000000111011\n",
      "0000000001110110\n",
      "0000000011101101\n",
      "0000000111011011\n",
      "0000001110110110\n"
     ]
    }
   ],
   "source": [
    "# Set up call to ChatGPT\n",
    "\n",
    "import requests # a very rudimentary wrapper for OpenAI's API, for purposes of this example.\n",
    "\n",
    "def ask_openai_something(prompt, model=\"gpt-3.5-turbo\", url=\"https://peterdresslar-asucss-f2025.onrender.com/ask\"):\n",
    "    response = requests.post(url, json={\"prompt\": prompt, \"model\": model})\n",
    "    if response.status_code == 200:\n",
    "        return response.json()[\"response\"]\n",
    "    else:\n",
    "        return f\"Error: {response.status_code}, {response.text}\"\n",
    "\n",
    "\n",
    "prompt = \"\"\"\n",
    "Please output the first 10 values of Rule 110,\n",
    "Given a 16 cell cylinder,\n",
    "with the initial condition of \n",
    "fifteen 0s followed by a 1 (left to right).\n",
    "\n",
    "Please work through the steps yourself. As a reminder, the rules of Rule 110 are:\n",
    "\n",
    "Pattern | Next State\n",
    "--------|----------\n",
    "111 | 0\n",
    "110 | 1\n",
    "101 | 1\n",
    "100 | 0\n",
    "011 | 1\n",
    "010 | 1\n",
    "001 | 1\n",
    "000 | 0\n",
    "\n",
    "Kindly respond only with the output values, no other text. Thanks!\n",
    "\"\"\"\n",
    "\n",
    "old_model = \"gpt-3.5-turbo\"\n",
    "\n",
    "print(ask_openai_something(prompt, old_model))"
   ]
  },
  {
   "cell_type": "markdown",
   "metadata": {},
   "source": [
    "The tenth iteration, by the way, should be `0000001100000111`.\n",
    "\n",
    "That, of course, was ChatGPT 3.5, coming to us from around 18 months ago. If you re-run this in real time, we might assume that the output did not work correctly---though we might observe that even one correct step would be significant! \n",
    "\n",
    "Letʻs try again this time with OpenAIʻs most powerful model: o1."
   ]
  },
  {
   "cell_type": "code",
   "execution_count": 3,
   "metadata": {},
   "outputs": [
    {
     "name": "stdout",
     "output_type": "stream",
     "text": [
      "0000000000000001\n",
      "0000000000000011\n",
      "0000000000000111\n",
      "0000000000001101\n",
      "0000000000011111\n",
      "0000000000110001\n",
      "0000000001110011\n",
      "0000000011010111\n",
      "0000000011111101\n",
      "0000000110000111\n"
     ]
    }
   ],
   "source": [
    "# Set up call to OpenAIʻs o1 Reasoning model. It can take a few minutes to respond!\n",
    "\n",
    "prompt = prompt # see above.\n",
    "\n",
    "new_model = \"o1\"\n",
    "\n",
    "print(ask_openai_something(prompt, new_model))"
   ]
  },
  {
   "cell_type": "markdown",
   "metadata": {},
   "source": [
    "18 months later and something almost miraculous is happening; something in the universe other than a human being can emulate.... *not* compute, but *think through* an automaton for several steps in a row, and in fact a turing complete one, at that! And so we might say that the interaction between LLMs and automata is an exciting new frontier, to say the least.\n",
    "\n",
    "<div style=\"text-align: center; font-size: 24px; margin: 20px 0;\">\n",
    ". . .\n",
    "</div>"
   ]
  },
  {
   "cell_type": "markdown",
   "metadata": {},
   "source": [
    "I mentioned two things. The second is that I currently find myself working for American Samoa Community College, which, as of December 2024, was working to establish remote courses for the Pacific market.[2] As the manager of our technology integration effort, I signed up for ASUʻs online courses simply to gather competitive intelligence. Thatʻs right---Iʻm a mole.\n",
    "\n",
    "I was browsing various course catalogues from the university, not planning to register for *any* of them, when Professor Applegateʻs Complexity Economics course description came across my search bar. That led me to her models on CoMSES, a few of which I downloaded and worked with, and suddenly I was hooked.[3] Now *these* were automata! And, of course, I had had automata on my mind. \n",
    "\n",
    "So, I registered for the CAS class. By the first weekʻs assigment I was hooked. By about week five I was dreaming about models. Here is some of the work that I posted in class:\n",
    "\n",
    "(in fact I posted several responses to assignments i was very pleased with, here are those examples)\n",
    "[links!]\n",
    "\n",
    "Iʻve been completely turned onto the idea the complexity science and particularly agent based modeling can genuinely yield information we can use to improve our societies, our interactions with our planetary domain, and the future of humanity in particular. And I am so excited to apply artificial intelligence as an unlocking factor in that development.\n",
    "\n",
    "(To that end (and hopefully demonstrating that my previous example was not appropos of nothing), I have begun work, with Professor Applegateʻs guidance, on an Artificial Agent Based Model based on Lotka Voltera. I have some exciting results so far that I believe can be developed into a paper.)\n",
    "\n",
    "From there, I am excited to expand on the approach, and would be particularly pleased to network with other students with various expertises and backgrounds to find new avenues where we might be able to solve some of the (seemingly endless) problems facing the world today. In fact, Iʻd like to close on that note with something I posted on the discussion board last month:"
   ]
  },
  {
   "cell_type": "markdown",
   "metadata": {},
   "source": [
    "Notes\n",
    "\n",
    "[1] Yes, that is very much a reference to a current popular entertainment.\n",
    "\n",
    "[2] Today, the college is merely struggling to survive, for reasons with which the reader will likely be familiar.\n",
    "\n",
    "[3] I would like to point out that when asked, Professor Applegate also graciously sent me the syllabus ahead f the semester\n",
    "\n",
    "References\n",
    "\n",
    "Applegate, JM, (get model citation)\n",
    "\n",
    "\"Rule 110.\" Wolfram Research, Inc., Wolfram|Alpha Notebook Edition, Champaign, IL (2024)."
   ]
  },
  {
   "cell_type": "markdown",
   "metadata": {},
   "source": []
  },
  {
   "cell_type": "code",
   "execution_count": null,
   "metadata": {},
   "outputs": [],
   "source": []
  }
 ],
 "metadata": {
  "kernelspec": {
   "display_name": "Python 3",
   "language": "python",
   "name": "python3"
  },
  "language_info": {
   "codemirror_mode": {
    "name": "ipython",
    "version": 3
   },
   "file_extension": ".py",
   "mimetype": "text/x-python",
   "name": "python",
   "nbconvert_exporter": "python",
   "pygments_lexer": "ipython3",
   "version": "3.12.8"
  }
 },
 "nbformat": 4,
 "nbformat_minor": 2
}
