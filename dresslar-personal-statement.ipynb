{
 "cells": [
  {
   "cell_type": "markdown",
   "metadata": {},
   "source": [
    "## Personal Statement: Peter Dresslar, Applicant\n",
    "\n",
    "### Complex Systems Science MS, Arizona State University, Fall 2025\n",
    "\n",
    "*March, 2025*\n",
    "\n",
    "<div style=\"text-align: center; font-size: 24px; margin: 20px 0;\">\n",
    ". . .\n",
    "</div>\n",
    "\n",
    "Some of you will be familiar with Python notebooks; for those that are not, please know that this notebook contains working code that you can run, one cell at a time, or all at once, using the tools in the notebook interface. However, the code cells are all pre-run, so if you prefer to just read on, you are welcome to do that. \n",
    "\n",
    "(Please bear with us as we prepare the notebook in the following code cell.)"
   ]
  },
  {
   "cell_type": "code",
   "execution_count": 1,
   "metadata": {
    "collapsed": true,
    "hide_input": true
   },
   "outputs": [],
   "source": [
    "# This cell handles all setup - you can collapse it after running\n",
    "import sys, subprocess, importlib.util, requests"
   ]
  },
  {
   "cell_type": "markdown",
   "metadata": {},
   "source": [
    "### Why Complex Systems Science?\n",
    "\n",
    "Why am I so excited about Complex Systems Science? Well, for a very long time, including much of my childhood (starting with Conwayʻs Game of Life on an Apple IIc!) I have been fascinated with automata. I spent endless hours in University of Michigan computer lab (which was invariably freezing cold) toying with my own versions in Pascal and C, sometimes to the detriment of my actual homework. \n",
    "\n",
    "Of course, the usual story applies: I graduated, I started a life, I moved on from \"childish things\" and grew up.[1] Life happened.\n",
    "\n",
    "<div style=\"text-align: center; font-size: 24px; margin: 20px 0;\">\n",
    "⌛ ⏳ ⌛\n",
    "</div>\n",
    "\n",
    "Many years later, a couple of events caused those old interests to flicker back to life. More and more of my work has focused on AI in the past few years, and with the advent of AI large language models (LLMs), I began experimenting a bit with automata. The following code is something I prototyped in early 2024, asking ChatGPT to please output the first few steps of a basic, well-known computational system:"
   ]
  },
  {
   "cell_type": "code",
   "execution_count": 4,
   "metadata": {},
   "outputs": [
    {
     "name": "stdout",
     "output_type": "stream",
     "text": [
      "00000000000000001\n",
      "00000000000000011\n",
      "00000000000000110\n",
      "00000000000001101\n",
      "00000000000011011\n",
      "00000000000110110\n",
      "00000000001101101\n",
      "00000000011011011\n",
      "00000000110110110\n",
      "00000001101101101\n"
     ]
    }
   ],
   "source": [
    "# Set up call to ChatGPT\n",
    "\n",
    "def ask_openai_something(prompt, model=\"gpt-3.5-turbo\", url=\"https://peterdresslar-asucss-f2025.onrender.com/ask\"):\n",
    "    response = requests.post(url, json={\"prompt\": prompt, \"model\": model})\n",
    "    if response.status_code == 200:\n",
    "        return response.json()[\"response\"]\n",
    "    else:\n",
    "        return f\"Error: {response.status_code}, {response.text}\"\n",
    "\n",
    "\n",
    "prompt = \"\"\"\n",
    "Please output the first 10 steps of Rule 110,\n",
    "Given a 16 cell cylinder,\n",
    "with the initial condition of \n",
    "fifteen 0s followed by a 1 (left to right).\n",
    "\n",
    "Please work through the steps yourself. As a reminder, the rules of Rule 110 are:\n",
    "\n",
    "Pattern | Next State\n",
    "--------|----------\n",
    "111 | 0\n",
    "110 | 1\n",
    "101 | 1\n",
    "100 | 0\n",
    "011 | 1\n",
    "010 | 1\n",
    "001 | 1\n",
    "000 | 0\n",
    "\n",
    "Kindly respond only with the output values, no other text. Make sure to include the initial condition with your list of ten steps. Thanks!\n",
    "\"\"\"\n",
    "\n",
    "old_model = \"gpt-3.5-turbo\"\n",
    "\n",
    "print(ask_openai_something(prompt, old_model))"
   ]
  },
  {
   "cell_type": "markdown",
   "metadata": {},
   "source": [
    "Rule 110, for those who are not familiar, is a computable automaton with a simple set of rules, formally described by Stephen Wolfram in 1983. As seen in the code above, it has eight rules that generate outputs that turn out not only to be complex but [Turing complete](https://en.wikipedia.org/wiki/Turing_completeness). \n",
    "\n",
    "The tenth iteration of Rule 110 after the starting step, by the way, should be `0000011100001101`.\n",
    "\n",
    "The results above are from ChatGPT 3.5, a model delivered to the public around 18 months ago, as of this writing. If you re-run the code in real time, it will almost certainly not make it correctly to step 10. However, the model made enough valiant attempts back in 2024 that I suspected it was only a matter of time before the approach would work.\n",
    "\n",
    "Letʻs try again this time with OpenAIʻs most powerful model: o1, released in the last few months."
   ]
  },
  {
   "cell_type": "code",
   "execution_count": 5,
   "metadata": {},
   "outputs": [
    {
     "name": "stdout",
     "output_type": "stream",
     "text": [
      "0000000000000001\n",
      "0000000000000011\n",
      "0000000000000111\n",
      "0000000000001101\n",
      "0000000000011111\n",
      "0000000000110001\n",
      "0000000001110011\n",
      "0000000011010111\n",
      "0000000111111101\n",
      "0000001100000111\n",
      "0000011100001101\n"
     ]
    }
   ],
   "source": [
    "# Set up call to OpenAIʻs o1 Reasoning model. It can take a few minutes to respond!\n",
    "\n",
    "prompt = prompt # see above.\n",
    "\n",
    "new_model = \"o1\"\n",
    "\n",
    "print(ask_openai_something(prompt, new_model))"
   ]
  },
  {
   "cell_type": "markdown",
   "metadata": {},
   "source": [
    "It was only a matter of time: less than a year, as it turns out. OpenAI o1, along with a few other frontier AI Large Language Models[5], can almost always get Rule 110 right. \n",
    "\n",
    "Something truly profound is happening here, at least on a very tiny scale. There is at least one other class of entity in the universe, outside of human beings, that can emulate... *not* compute, but *think through*... an automaton for several steps in a row. In fact, a Turing complete one at that! For some small degree of universality, we people were alone in a class last year that is no longer ours alone. Things changed, and are changing.\n",
    "\n",
    "My resulting intution is that there is no more exciting potential intellectual interface out there than the following tripartate:\n",
    "\n",
    "- Human intuition and volition\n",
    "- Artificial Intelligence reasoning\n",
    "- Mundane, universal, and cosmic complexity\n",
    "\n",
    "<div style=\"text-align: center; font-size: 24px; margin: 20px 0;\">\n",
    ". . .\n",
    "</div>"
   ]
  },
  {
   "cell_type": "markdown",
   "metadata": {},
   "source": [
    "Speaking of mundanity: I mentioned above that *two* things happened. The other one was: I currently work for American Samoa Community College, which, as of December 2024, was working to establish remote courses for the Pacific market.[2] As the manager of our technology integration effort, I signed up for ASUʻs online courses simply to gather competitive intelligence. Thatʻs right: Iʻm a mole.\n",
    "\n",
    "I was browsing various course catalogues from the university----not actually planning to register---when Professor Applegateʻs Complexity Economics course description came across my search bar. That led me to her models on CoMSES, a few of which I downloaded and worked with, and suddenly I was hooked.[3] Now *these* were automata! I had already had automata on my mind. \n",
    "\n",
    "So, I registered for the CAS class. By the first weekʻs assigment I was passionate about the work. By about week five I was dreaming about models. Here is some of the work that I posted in class:\n",
    "\n",
    "(in fact I posted several responses to assignments i was very pleased with, here are those examples)\n",
    "[links!]\n",
    "\n",
    "Iʻve been completely turned onto the idea the complexity science and particularly agent based modeling can genuinely yield information we can use to improve our societies, our interactions with our planetary domain, and the future of humanity in particular. And I am so excited to apply artificial intelligence as an unlocking factor in that development.\n",
    "\n",
    "To that end, I have begun work, with Professor Applegateʻs guidance, on an Agent Based Model based on the classical Lotka Voltera ecological system of formulae. We are applying AI in an effort to answer a research question: \"Do LLM agents produce emergent system-level stability or new behavior in a well-known dynamic model?\" One might conjecture that the proof of concept illustrated above leads me to think that the answer could be, \"yes.\"\n",
    "\n",
    "We have some exciting results so far that I believe can be developed into a paper soon. If you are reading this and interested to know more---by all means, contact me.\n",
    "\n",
    "From there, I am excited to expand on the approach, and would be particularly pleased to network with other students with various expertises and backgrounds to find new avenues where we might be able to solve some of the (seemingly endless) problems facing the world today. In fact, Iʻd like to close on that note with something I posted on the discussion board last month:"
   ]
  },
  {
   "cell_type": "markdown",
   "metadata": {},
   "source": [
    "<div style=\"text-align: center; font-size: 24px; margin: 20px 0;\">\n",
    ". . .\n",
    "</div>\n",
    "\n",
    "Notes\n",
    "\n",
    "[1] Yes, that is very much a reference to a current popular entertainment.\n",
    "\n",
    "[2] Today, the college is merely struggling to survive, for reasons with which the reader will likely be familiar.\n",
    "\n",
    "References\n",
    "\n",
    "Applegate, JM, (get model citation)\n",
    "\n",
    "\"Rule 110.\" Wolfram Research, Inc., Wolfram|Alpha Notebook Edition, Champaign, IL (2024)."
   ]
  },
  {
   "cell_type": "markdown",
   "metadata": {},
   "source": []
  },
  {
   "cell_type": "code",
   "execution_count": null,
   "metadata": {},
   "outputs": [],
   "source": []
  }
 ],
 "metadata": {
  "kernelspec": {
   "display_name": "Python 3",
   "language": "python",
   "name": "python3"
  },
  "language_info": {
   "codemirror_mode": {
    "name": "ipython",
    "version": 3
   },
   "file_extension": ".py",
   "mimetype": "text/x-python",
   "name": "python",
   "nbconvert_exporter": "python",
   "pygments_lexer": "ipython3",
   "version": "3.12.8"
  }
 },
 "nbformat": 4,
 "nbformat_minor": 2
}
